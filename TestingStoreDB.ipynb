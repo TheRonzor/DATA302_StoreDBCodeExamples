{
 "cells": [
  {
   "cell_type": "code",
   "execution_count": 80,
   "id": "16e94654-b150-4bc5-9820-ae4541b5afa9",
   "metadata": {
    "tags": []
   },
   "outputs": [],
   "source": [
    "import store\n",
    "import pandas as pd\n",
    "from traceback import print_exc as pe\n",
    "\n",
    "# For testing, python will not reload a module that is already loaded\n",
    "# unless you force it to\n",
    "from importlib import reload\n",
    "reload(store);"
   ]
  },
  {
   "cell_type": "code",
   "execution_count": 86,
   "id": "32f63b71-3a0e-4d91-b868-d0b0e1883610",
   "metadata": {
    "tags": []
   },
   "outputs": [],
   "source": [
    "store.RebuildDB()"
   ]
  },
  {
   "cell_type": "code",
   "execution_count": null,
   "id": "81c25091-c512-41f0-90e8-1a20da93bc83",
   "metadata": {},
   "outputs": [],
   "source": []
  }
 ],
 "metadata": {
  "kernelspec": {
   "display_name": "Python 3 (ipykernel)",
   "language": "python",
   "name": "python3"
  },
  "language_info": {
   "codemirror_mode": {
    "name": "ipython",
    "version": 3
   },
   "file_extension": ".py",
   "mimetype": "text/x-python",
   "name": "python",
   "nbconvert_exporter": "python",
   "pygments_lexer": "ipython3",
   "version": "3.10.9"
  }
 },
 "nbformat": 4,
 "nbformat_minor": 5
}
