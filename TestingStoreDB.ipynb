{
 "cells": [
  {
   "cell_type": "code",
   "execution_count": 14,
   "id": "21ece0e3-d32c-46d9-9c0b-29882401214c",
   "metadata": {
    "tags": []
   },
   "outputs": [],
   "source": [
    "import store\n",
    "\n",
    "# While testing, need to force python to reload the module\n",
    "# Otherwise, it will not see our changes\n",
    "from importlib import reload\n",
    "reload(store);"
   ]
  },
  {
   "cell_type": "markdown",
   "id": "88143c21-78c9-42de-b360-9488397626dc",
   "metadata": {},
   "source": [
    "### Part 1 - Build the database (i.e., define the tables)"
   ]
  },
  {
   "cell_type": "code",
   "execution_count": 8,
   "id": "c54c2768-0667-4e3b-bd00-6ce28672d784",
   "metadata": {
    "tags": []
   },
   "outputs": [],
   "source": [
    "store.RunAction(\"DROP TABLE IF EXISTS tCust;\")\n",
    "sql = \"\"\"\n",
    "CREATE TABLE tCust (\n",
    "    cust_id INTEGER PRIMARY KEY,\n",
    "    first TEXT NOT NULL,\n",
    "    last TEXT NOT NULL,\n",
    "    addr TEXT NOT NULL,\n",
    "    zip TEXT NOT NULL REFERENCES tZip(zip)\n",
    ");\"\"\"\n",
    "store.RunAction(sql)"
   ]
  },
  {
   "cell_type": "code",
   "execution_count": 9,
   "id": "d2ed6753-9f6f-4ca6-9866-f8b081c4d30b",
   "metadata": {
    "tags": []
   },
   "outputs": [],
   "source": [
    "store.RunAction(\"DROP TABLE IF EXISTS tZip;\")\n",
    "sql = \"\"\"\n",
    "CREATE TABLE tZip (\n",
    "    zip TEXT PRIMARY KEY CHECK(length(zip)==5),\n",
    "    city TEXT NOT NULL,\n",
    "    st TEXT NOT NULL REFERENCES tState(st)\n",
    ");\"\"\"\n",
    "store.RunAction(sql)"
   ]
  },
  {
   "cell_type": "code",
   "execution_count": 10,
   "id": "82919a7a-a38b-487f-958d-9f70485c7941",
   "metadata": {
    "tags": []
   },
   "outputs": [],
   "source": [
    "store.RunAction(\"DROP TABLE IF EXISTS tState;\")\n",
    "sql = \"\"\"\n",
    "CREATE TABLE tState (\n",
    "    st TEXT PRIMARY KEY CHECK(length(st)==2),\n",
    "    state TEXT NOT NULL\n",
    ");\"\"\"\n",
    "store.RunAction(sql)"
   ]
  },
  {
   "cell_type": "code",
   "execution_count": 11,
   "id": "afae2a39-0f34-4442-8780-f133ada9684a",
   "metadata": {
    "tags": []
   },
   "outputs": [],
   "source": [
    "store.RunAction(\"DROP TABLE IF EXISTS tOrder;\")\n",
    "sql = \"\"\"\n",
    "CREATE TABLE tOrder (\n",
    "    order_id INTEGER PRIMARY KEY,\n",
    "    cust_id INTEGER NOT NULL REFERENCES tCust(cust_id),\n",
    "    date TEXT NOT NULL CHECK(date LIKE '____-__-__')\n",
    ");\"\"\"\n",
    "store.RunAction(sql)"
   ]
  },
  {
   "cell_type": "code",
   "execution_count": 16,
   "id": "fcdd5130-6c79-4f11-aa35-9f42b3e4f838",
   "metadata": {
    "tags": []
   },
   "outputs": [],
   "source": [
    "store.RunAction(\"DROP TABLE IF EXISTS tOrderDetail;\")\n",
    "sql = \"\"\"\n",
    "CREATE TABLE tOrderDetail (\n",
    "    order_id INTEGER NOT NULL REFERENCES tOrder(order_id),\n",
    "    prod_id INTEGER NOT NULL REFERENCES tProd(prod_id),\n",
    "    qty INTEGER NOT NULL CHECK(qty>0),\n",
    "    PRIMARY KEY (order_id, prod_id)\n",
    ");\"\"\"\n",
    "store.RunAction(sql)"
   ]
  },
  {
   "cell_type": "code",
   "execution_count": 17,
   "id": "3f124479-4c66-40fd-9297-a4fbcf0501f2",
   "metadata": {
    "tags": []
   },
   "outputs": [],
   "source": [
    "store.RunAction(\"DROP TABLE IF EXISTS tProd;\")\n",
    "sql = \"\"\"\n",
    "CREATE TABLE tProd (\n",
    "    prod_id INTEGER PRIMARY KEY,\n",
    "    prod_desc TEXT NOT NULL,\n",
    "    unit_price REAL NOT NULL\n",
    ");\"\"\"\n",
    "store.RunAction(sql)"
   ]
  },
  {
   "cell_type": "code",
   "execution_count": 18,
   "id": "19e51706-cc8d-4a60-91e8-be9918e1eea2",
   "metadata": {
    "tags": []
   },
   "outputs": [
    {
     "data": {
      "text/html": [
       "<div>\n",
       "<style scoped>\n",
       "    .dataframe tbody tr th:only-of-type {\n",
       "        vertical-align: middle;\n",
       "    }\n",
       "\n",
       "    .dataframe tbody tr th {\n",
       "        vertical-align: top;\n",
       "    }\n",
       "\n",
       "    .dataframe thead th {\n",
       "        text-align: right;\n",
       "    }\n",
       "</style>\n",
       "<table border=\"1\" class=\"dataframe\">\n",
       "  <thead>\n",
       "    <tr style=\"text-align: right;\">\n",
       "      <th></th>\n",
       "      <th>type</th>\n",
       "      <th>name</th>\n",
       "      <th>tbl_name</th>\n",
       "      <th>rootpage</th>\n",
       "      <th>sql</th>\n",
       "    </tr>\n",
       "  </thead>\n",
       "  <tbody>\n",
       "    <tr>\n",
       "      <th>0</th>\n",
       "      <td>table</td>\n",
       "      <td>tCust</td>\n",
       "      <td>tCust</td>\n",
       "      <td>2</td>\n",
       "      <td>CREATE TABLE tCust (\\n    cust_id INTEGER PRIM...</td>\n",
       "    </tr>\n",
       "    <tr>\n",
       "      <th>1</th>\n",
       "      <td>table</td>\n",
       "      <td>tZip</td>\n",
       "      <td>tZip</td>\n",
       "      <td>3</td>\n",
       "      <td>CREATE TABLE tZip (\\n    zip TEXT PRIMARY KEY ...</td>\n",
       "    </tr>\n",
       "    <tr>\n",
       "      <th>2</th>\n",
       "      <td>index</td>\n",
       "      <td>sqlite_autoindex_tZip_1</td>\n",
       "      <td>tZip</td>\n",
       "      <td>4</td>\n",
       "      <td>None</td>\n",
       "    </tr>\n",
       "    <tr>\n",
       "      <th>3</th>\n",
       "      <td>table</td>\n",
       "      <td>tState</td>\n",
       "      <td>tState</td>\n",
       "      <td>5</td>\n",
       "      <td>CREATE TABLE tState (\\n    st TEXT PRIMARY KEY...</td>\n",
       "    </tr>\n",
       "    <tr>\n",
       "      <th>4</th>\n",
       "      <td>index</td>\n",
       "      <td>sqlite_autoindex_tState_1</td>\n",
       "      <td>tState</td>\n",
       "      <td>6</td>\n",
       "      <td>None</td>\n",
       "    </tr>\n",
       "    <tr>\n",
       "      <th>5</th>\n",
       "      <td>table</td>\n",
       "      <td>tOrder</td>\n",
       "      <td>tOrder</td>\n",
       "      <td>7</td>\n",
       "      <td>CREATE TABLE tOrder (\\n    order_id INTEGER PR...</td>\n",
       "    </tr>\n",
       "    <tr>\n",
       "      <th>6</th>\n",
       "      <td>table</td>\n",
       "      <td>tOrderDetail</td>\n",
       "      <td>tOrderDetail</td>\n",
       "      <td>9</td>\n",
       "      <td>CREATE TABLE tOrderDetail (\\n    order_id INTE...</td>\n",
       "    </tr>\n",
       "    <tr>\n",
       "      <th>7</th>\n",
       "      <td>index</td>\n",
       "      <td>sqlite_autoindex_tOrderDetail_1</td>\n",
       "      <td>tOrderDetail</td>\n",
       "      <td>10</td>\n",
       "      <td>None</td>\n",
       "    </tr>\n",
       "    <tr>\n",
       "      <th>8</th>\n",
       "      <td>table</td>\n",
       "      <td>tProd</td>\n",
       "      <td>tProd</td>\n",
       "      <td>8</td>\n",
       "      <td>CREATE TABLE tProd (\\n    prod_id INTEGER PRIM...</td>\n",
       "    </tr>\n",
       "  </tbody>\n",
       "</table>\n",
       "</div>"
      ],
      "text/plain": [
       "    type                             name      tbl_name  rootpage  \\\n",
       "0  table                            tCust         tCust         2   \n",
       "1  table                             tZip          tZip         3   \n",
       "2  index          sqlite_autoindex_tZip_1          tZip         4   \n",
       "3  table                           tState        tState         5   \n",
       "4  index        sqlite_autoindex_tState_1        tState         6   \n",
       "5  table                           tOrder        tOrder         7   \n",
       "6  table                     tOrderDetail  tOrderDetail         9   \n",
       "7  index  sqlite_autoindex_tOrderDetail_1  tOrderDetail        10   \n",
       "8  table                            tProd         tProd         8   \n",
       "\n",
       "                                                 sql  \n",
       "0  CREATE TABLE tCust (\\n    cust_id INTEGER PRIM...  \n",
       "1  CREATE TABLE tZip (\\n    zip TEXT PRIMARY KEY ...  \n",
       "2                                               None  \n",
       "3  CREATE TABLE tState (\\n    st TEXT PRIMARY KEY...  \n",
       "4                                               None  \n",
       "5  CREATE TABLE tOrder (\\n    order_id INTEGER PR...  \n",
       "6  CREATE TABLE tOrderDetail (\\n    order_id INTE...  \n",
       "7                                               None  \n",
       "8  CREATE TABLE tProd (\\n    prod_id INTEGER PRIM...  "
      ]
     },
     "execution_count": 18,
     "metadata": {},
     "output_type": "execute_result"
    }
   ],
   "source": [
    "store.RunQuery(\"SELECT * FROM sqlite_master;\")"
   ]
  },
  {
   "cell_type": "code",
   "execution_count": null,
   "id": "5dbbd103-c553-4a89-a721-aa11f24d9d80",
   "metadata": {},
   "outputs": [],
   "source": []
  }
 ],
 "metadata": {
  "kernelspec": {
   "display_name": "Python 3 (ipykernel)",
   "language": "python",
   "name": "python3"
  },
  "language_info": {
   "codemirror_mode": {
    "name": "ipython",
    "version": 3
   },
   "file_extension": ".py",
   "mimetype": "text/x-python",
   "name": "python",
   "nbconvert_exporter": "python",
   "pygments_lexer": "ipython3",
   "version": "3.10.9"
  }
 },
 "nbformat": 4,
 "nbformat_minor": 5
}
