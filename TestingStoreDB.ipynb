{
 "cells": [
  {
   "cell_type": "code",
   "execution_count": 3,
   "id": "16e94654-b150-4bc5-9820-ae4541b5afa9",
   "metadata": {
    "tags": []
   },
   "outputs": [],
   "source": [
    "import store\n",
    "import pandas as pd\n",
    "from traceback import print_exc as pe\n",
    "\n",
    "# For testing, python will not reload a module that is already loaded\n",
    "# unless you force it to\n",
    "from importlib import reload\n",
    "reload(store);"
   ]
  },
  {
   "cell_type": "code",
   "execution_count": 4,
   "id": "32f63b71-3a0e-4d91-b868-d0b0e1883610",
   "metadata": {
    "tags": []
   },
   "outputs": [],
   "source": [
    "store.RebuildDB()"
   ]
  },
  {
   "cell_type": "code",
   "execution_count": 6,
   "id": "81c25091-c512-41f0-90e8-1a20da93bc83",
   "metadata": {},
   "outputs": [],
   "source": [
    "from glob import glob\n",
    "import os\n",
    "\n",
    "PATH_DATA = 'data'\n",
    "PATH_TO_LOAD = os.path.join(PATH_DATA, 'sales_to_load')\n",
    "PATH_LOADED = os.path.join(PATH_DATA, 'sales_loaded')\n",
    "\n",
    "SALES_PATTERN = 'Sales_*.csv'\n",
    "\n",
    "# Look for any new sales files to load\n",
    "def GetNewData():\n",
    "    '''Function will return a list of file names\n",
    "       in the sales_to_load_directory'''\n",
    "    file_names = glob(os.path.join(PATH_TO_LOAD, SALES_PATTERN))\n",
    "    file_names.sort()\n",
    "    return file_names\n",
    "\n",
    "# For each new sales file...\n",
    "def LoadNewFiles():\n",
    "    file_names = GetNewData()\n",
    "    for file in file_names:\n",
    "        if LoadFile(file):\n",
    "            # Move the file into the 'sales_loaded' directory\n",
    "            # You can use os.rename for that\n",
    "        else:\n",
    "            print('Failed to load: ' + file)\n",
    "            return False\n",
    "    return True\n",
    "\n",
    "# Load the file\n",
    "def LoadFile(file_name):\n",
    "    '''Function will load a single sales file into the database.\n",
    "       If succesful, commit the changes, and return True.\n",
    "       If any errors occur, print some detail, rollback changes and return False'''\n",
    "    try:\n",
    "        \n",
    "        # For each row in the file...\n",
    "        \n",
    "        # Get or create the cust_id for the current customer\n",
    "        cust_id = GetCustomerID(first, last, addr, zip_code)\n",
    "        \n",
    "        # Get or create the order_id\n",
    "        order_id = GetOrderID(cust_id, date)\n",
    "        \n",
    "        # Insert the data into tOrderDetail\n",
    "        \n",
    "    except:\n",
    "        # Print detail about which file, which row, etc.\n",
    "        \n",
    "        \n",
    "        conn.rollback()\n",
    "        conn.close()\n",
    "        return False\n",
    "    \n",
    "    conn.commit()\n",
    "    conn.close()\n",
    "    return True\n",
    "\n",
    "def GetCustomerID(first, last, addr, zip_code):\n",
    "    # Check if the customer exists\n",
    "    \n",
    "    # If no results are returned, create a record for the customer\n",
    "    \n",
    "    return cust_id\n",
    "\n",
    "def GetOrderID(cust_id, date):\n",
    "    # Check if order_id exists for this cust/date\n",
    "    \n",
    "    # If not, create a new record\n",
    "    \n",
    "    return order_id"
   ]
  },
  {
   "cell_type": "code",
   "execution_count": 7,
   "id": "cb5b3106-27a2-4e78-b9ae-b569e14aeb21",
   "metadata": {
    "tags": []
   },
   "outputs": [
    {
     "data": {
      "text/plain": [
       "['data/sales_to_load/Sales_201901.csv']"
      ]
     },
     "execution_count": 7,
     "metadata": {},
     "output_type": "execute_result"
    }
   ],
   "source": [
    "GetNewData()"
   ]
  },
  {
   "cell_type": "code",
   "execution_count": null,
   "id": "8990f1d9-8f7e-4f54-aa5e-6a85fae79e5a",
   "metadata": {},
   "outputs": [],
   "source": []
  }
 ],
 "metadata": {
  "kernelspec": {
   "display_name": "Python 3 (ipykernel)",
   "language": "python",
   "name": "python3"
  },
  "language_info": {
   "codemirror_mode": {
    "name": "ipython",
    "version": 3
   },
   "file_extension": ".py",
   "mimetype": "text/x-python",
   "name": "python",
   "nbconvert_exporter": "python",
   "pygments_lexer": "ipython3",
   "version": "3.10.9"
  }
 },
 "nbformat": 4,
 "nbformat_minor": 5
}
